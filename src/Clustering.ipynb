{
 "cells": [
  {
   "cell_type": "code",
   "execution_count": 1,
   "metadata": {},
   "outputs": [],
   "source": [
    "import numpy as np\n",
    "import pandas as pd\n",
    "import matplotlib.pyplot as plt\n",
    "from sklearn.cluster import DBSCAN, AgglomerativeClustering, SpectralClustering\n",
    "from sklearn.datasets import make_moons\n",
    "from sklearn.metrics import (\n",
    "    silhouette_score,\n",
    "    davies_bouldin_score,\n",
    "    calinski_harabasz_score,\n",
    "    adjusted_rand_score,\n",
    "    f1_score,\n",
    "    normalized_mutual_info_score\n",
    ")\n",
    "from sklearn.metrics.cluster import contingency_matrix\n",
    "from sklearn.preprocessing import StandardScaler"
   ]
  },
  {
   "cell_type": "code",
   "execution_count": 2,
   "metadata": {},
   "outputs": [],
   "source": [
    "X , y = make_moons(n_samples=500, noise=0.0875, random_state=42)\n",
    "X_scaled = StandardScaler().fit_transform(X)"
   ]
  },
  {
   "cell_type": "code",
   "execution_count": null,
   "metadata": {},
   "outputs": [],
   "source": [
    "fig, axes = plt.subplots(1, 1, figsize=(5, 5), \n",
    "                         sharex=True)\n",
    "\n",
    "axes.scatter(X[:, 0], X[:, 1], c=y, cmap='tab10', s=10)\n",
    "axes.set_title(\"True Labels\")\n",
    "axes.set_xticks([])\n",
    "axes.set_yticks([])\n",
    "\n",
    "\n",
    "plt.tight_layout()\n",
    "plt.show()"
   ]
  },
  {
   "cell_type": "code",
   "execution_count": 10,
   "metadata": {},
   "outputs": [],
   "source": [
    "dbscan = DBSCAN(eps=0.3, min_samples=25)\n",
    "\n",
    "agglo = AgglomerativeClustering(\n",
    "    n_clusters=2,\n",
    "    linkage=\"complete\"\n",
    ")"
   ]
  },
  {
   "cell_type": "code",
   "execution_count": 11,
   "metadata": {},
   "outputs": [],
   "source": [
    "pred_dbscan = dbscan.fit_predict(X)\n",
    "pred_agglo = agglo.fit_predict(X)"
   ]
  },
  {
   "cell_type": "code",
   "execution_count": null,
   "metadata": {},
   "outputs": [],
   "source": [
    "def purity_score(y_true, y_pred):\n",
    "    matrix = contingency_matrix(y_true, y_pred)\n",
    "    return np.sum(np.amax(matrix, axis=0)) / np.sum(matrix)\n",
    "\n",
    "\n",
    "def evaluate_all(X, y_true, y_pred):\n",
    "    sil = silhouette_score(X, y_pred)\n",
    "    db = davies_bouldin_score(X, y_pred)\n",
    "    ch = calinski_harabasz_score(X, y_pred)\n",
    "    ari = adjusted_rand_score(y_true, y_pred)\n",
    "    nmi = normalized_mutual_info_score(y_true, y_pred)\n",
    "    purity = purity_score(y_true, y_pred)\n",
    "    return {\n",
    "        \"Silhouette\": sil,\n",
    "        \"Davies-Bouldin\": db,\n",
    "        \"Calinski-Harabasz\": ch,\n",
    "        \"ARI\": ari,\n",
    "        \"NMI\": nmi,\n",
    "        \"Purity\": purity\n",
    "    }\n",
    "\n",
    "metrics_a = evaluate_all(X, y, pred_agglo)\n",
    "metrics_d = evaluate_all(X, y, pred_dbscan)\n",
    "\n",
    "\n",
    "results_df = pd.DataFrame([metrics_a, metrics_d], \n",
    "                          index=['Agglomerative', 'DBSCAN'])\n",
    "\n",
    "fig, ax = plt.subplots(figsize=(12, 2))\n",
    "ax.axis('off')\n",
    "tbl = ax.table(cellText=results_df.round(6).values,\n",
    "               colLabels=results_df.columns,\n",
    "               rowLabels=results_df.index,\n",
    "               loc='center',\n",
    "               cellLoc='center')\n",
    "tbl.auto_set_font_size(False)\n",
    "tbl.set_fontsize(10)\n",
    "plt.tight_layout()\n",
    "plt.show()"
   ]
  },
  {
   "cell_type": "code",
   "execution_count": null,
   "metadata": {},
   "outputs": [],
   "source": [
    "fig, axes = plt.subplots(2, 2, figsize=(14, 8), gridspec_kw={'height_ratios': [4, 1]}, sharex=True, sharey=True)\n",
    "\n",
    "axes[0, 0].scatter(X[:, 0], X[:, 1], c=pred_dbscan, cmap='tab10', s=10)\n",
    "axes[0, 0].set_title(\"DBSCAn Predictions\")\n",
    "\n",
    "axes[0, 1].scatter(X[:, 0], X[:, 1], c=pred_agglo, cmap='tab10', s=10)\n",
    "axes[0, 1].set_title(\"Agglomerative Predictions\")\n",
    "\n",
    "for ax in axes[0, :]:\n",
    "    ax.set_xticks([])\n",
    "    ax.set_yticks([])\n",
    "\n",
    "labels = [\"Silhouette\", \"Davies-Bouldin\", \"Calinski-Harabasz\", \"ARI\", \"F1\", \"NMI\", \"Purity\"]\n",
    "\n",
    "text_dbscan = \"\\n\".join([f\"{lbl}: {val:.3f}\" for lbl, val in metrics_d.items()])\n",
    "text_agglo = \"\\n\".join([f\"{lbl}: {val:.3f}\" for lbl, val in metrics_a.items()])\n",
    " \n",
    "axes[1, 0].axis('off')\n",
    "axes[1,1].axis('off')\n",
    "\n",
    "axes[1, 0].text(0.5, 0.5, text_dbscan, fontsize=10, ha='center', va='center')\n",
    "axes[1, 1].text(0.5, 0.5, text_agglo, fontsize=10, ha='center', va='center')\n",
    "\n",
    "plt.tight_layout()\n",
    "plt.show()"
   ]
  }
 ],
 "metadata": {
  "kernelspec": {
   "display_name": ".venv",
   "language": "python",
   "name": "python3"
  },
  "language_info": {
   "codemirror_mode": {
    "name": "ipython",
    "version": 3
   },
   "file_extension": ".py",
   "mimetype": "text/x-python",
   "name": "python",
   "nbconvert_exporter": "python",
   "pygments_lexer": "ipython3",
   "version": "3.11.3"
  }
 },
 "nbformat": 4,
 "nbformat_minor": 2
}
